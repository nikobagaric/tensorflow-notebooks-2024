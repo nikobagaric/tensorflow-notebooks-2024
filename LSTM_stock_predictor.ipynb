{
  "cells": [
    {
      "cell_type": "markdown",
      "metadata": {
        "id": "OxKKB7qaeKLE"
      },
      "source": [
        "# Long-Short Term Memory Stock Predictor\n",
        "\n",
        "2024, Niko Bagaric TF practice project"
      ]
    },
    {
      "cell_type": "markdown",
      "metadata": {
        "id": "qPVLg8azeid4"
      },
      "source": [
        "## Imports & Functions"
      ]
    },
    {
      "cell_type": "code",
      "execution_count": null,
      "metadata": {
        "colab": {
          "base_uri": "https://localhost:8080/"
        },
        "id": "59hz15aCfRqe",
        "outputId": "b8776bcf-b598-40e5-fcbb-d689ab4294c1"
      },
      "outputs": [],
      "source": [
        "!pip install alpha_vantage"
      ]
    },
    {
      "cell_type": "code",
      "execution_count": null,
      "metadata": {
        "id": "puMp24bmePTD"
      },
      "outputs": [],
      "source": [
        "import tensorflow as tf\n",
        "import pandas as pd\n",
        "import numpy as np\n",
        "import matplotlib.pyplot as plt\n",
        "\n",
        "from tensorflow.keras.models import Sequential\n",
        "from tensorflow.keras.layers import LSTM, Dropout, Dense\n",
        "\n",
        "from sklearn.preprocessing import MinMaxScaler\n",
        "from sklearn.model_selection import train_test_split\n",
        "\n",
        "from alpha_vantage.timeseries import TimeSeries"
      ]
    },
    {
      "cell_type": "code",
      "execution_count": null,
      "metadata": {
        "id": "eHSYjVRGlQs3"
      },
      "outputs": [],
      "source": [
        "def getStockData(ticker_symbol, ts):\n",
        "  data, metadata = ts.get_daily(symbol=ticker_symbol, outputsize='full')\n",
        "\n",
        "  data['SMA_50'] = data['4. close'].rolling(window=50).mean()\n",
        "  data['SMA_200'] = data['4. close'].rolling(window=200).mean()\n",
        "\n",
        "  data.dropna(inplace=True)\n",
        "\n",
        "  features = data[['4. close', 'SMA_50', 'SMA_200']]\n",
        "\n",
        "  scaler = MinMaxScaler(feature_range=(0, 1))\n",
        "  scaled_features = scaler.fit_transform(features)\n",
        "\n",
        "  X, y = [], []\n",
        "  for i in range(len(scaled_features) - 60):\n",
        "    X.append(scaled_features[i:i + 60])\n",
        "    y.append(scaled_features[i + 60, 0])\n",
        "\n",
        "  X, y = np.array(X), np.array(y)\n",
        "\n",
        "  return X, y\n",
        "\n",
        "def makeEvaluationPlot(X1, y1):\n",
        "  # Evaluate the model\n",
        "  loss = model.evaluate(X1, y1)\n",
        "\n",
        "  # Make predictions\n",
        "  predictions = model.predict(X1)\n",
        "  predictions = scaler.inverse_transform(np.concatenate((predictions, X1[:, 0, 1:]), axis=1))[:, 0]\n",
        "  y1 = scaler.inverse_transform(np.concatenate((y1.reshape(-1, 1), X1[:, 0, 1:]), axis=1))[:, 0]\n",
        "\n",
        "  # Plot the results\n",
        "  plt.figure(figsize=(14, 5))\n",
        "  plt.plot(y1, color='blue', label='Actual Stock Price')\n",
        "  plt.plot(predictions, color='red', label='Predicted Stock Price')\n",
        "  plt.title('Stock Price Prediction using LSTM')\n",
        "  plt.xlabel('Time')\n",
        "  plt.ylabel('Stock Price')\n",
        "  plt.legend()\n",
        "  plt.show()"
      ]
    },
    {
      "cell_type": "markdown",
      "metadata": {
        "id": "XL4fCtZCevvH"
      },
      "source": [
        "## Data Grabbing\n",
        "\n",
        "The data is grabbed from [here](https://www.alphavantage.co/)"
      ]
    },
    {
      "cell_type": "code",
      "execution_count": null,
      "metadata": {
        "id": "v3xgOskzfuPv"
      },
      "outputs": [],
      "source": [
        "# Define API key and TS\n",
        "api_key = 'YOUR API KEY HERE'\n",
        "ts = TimeSeries(key=api_key, output_format='pandas')"
      ]
    },
    {
      "cell_type": "code",
      "execution_count": null,
      "metadata": {
        "id": "HkzxHI9sezgT"
      },
      "outputs": [],
      "source": [
        "# Define the ticker symbol (apple)\n",
        "ticker_symbol = 'AAPL'"
      ]
    },
    {
      "cell_type": "code",
      "execution_count": null,
      "metadata": {
        "id": "DTi5D6UOow31"
      },
      "outputs": [],
      "source": [
        "X, y = getStockData(ticker_symbol=ticker_symbol,\n",
        "                    ts=ts)"
      ]
    },
    {
      "cell_type": "code",
      "execution_count": null,
      "metadata": {
        "id": "8FMjSalnoSir"
      },
      "outputs": [],
      "source": [
        "# Split the dataset into training and test sets\n",
        "X_train, X_test, y_train, y_test = train_test_split(X, y, test_size=0.2, shuffle=False)"
      ]
    },
    {
      "cell_type": "markdown",
      "metadata": {
        "id": "rrvfjl2NiomS"
      },
      "source": [
        "## Model A-01"
      ]
    },
    {
      "cell_type": "markdown",
      "metadata": {
        "id": "rwr58s53lJSW"
      },
      "source": [
        "### Training"
      ]
    },
    {
      "cell_type": "code",
      "execution_count": null,
      "metadata": {
        "colab": {
          "base_uri": "https://localhost:8080/"
        },
        "id": "xRDgyaVhiBmn",
        "outputId": "24bb13a1-dc12-4074-a335-667f4807121f"
      },
      "outputs": [],
      "source": [
        "# Define the LSTM model\n",
        "model = Sequential([\n",
        "    LSTM(units=50, return_sequences=True, input_shape=(X_train.shape[1], X_train.shape[2])),\n",
        "    Dropout(0.2),\n",
        "    LSTM(units=50, return_sequences=True),\n",
        "    Dropout(0.2),\n",
        "    LSTM(units=50),\n",
        "    Dropout(0.2),\n",
        "    Dense(units=1)\n",
        "])\n",
        "\n",
        "# Compile the model\n",
        "model.compile(optimizer='adam', loss='mean_squared_error')\n",
        "\n",
        "# Train the model\n",
        "history = model.fit(X_train, y_train, epochs=100, batch_size=32, validation_data=(X_test, y_test))"
      ]
    },
    {
      "cell_type": "code",
      "execution_count": null,
      "metadata": {
        "colab": {
          "base_uri": "https://localhost:8080/"
        },
        "id": "TDsUGpzqiCAv",
        "outputId": "ed9a7168-abf0-49f4-9f3f-32e4289e088e"
      },
      "outputs": [],
      "source": [
        "makeEvaluationPlot(X1=X_test,\n",
        "                   y1=y_test)"
      ]
    },
    {
      "cell_type": "markdown",
      "metadata": {
        "id": "XqyBcoEllMVy"
      },
      "source": [
        "### Testing on different dataset (different stock)\n",
        "\n",
        "Testing on different stock"
      ]
    },
    {
      "cell_type": "code",
      "execution_count": null,
      "metadata": {
        "id": "ntmAIJr1lOrP"
      },
      "outputs": [],
      "source": [
        "ticker_symbol_nvidia = 'NVDA'\n",
        "\n",
        "X1, y1 = getStockData(ticker_symbol=ticker_symbol_nvidia,\n",
        "                      ts=ts)"
      ]
    },
    {
      "cell_type": "code",
      "execution_count": null,
      "metadata": {
        "id": "wu1AD-pYqN2o"
      },
      "outputs": [],
      "source": [
        "# Let's evaluate on a big set\n",
        "\n",
        "makeEvaluationPlot(X1=X1,\n",
        "                   y1=y1)"
      ]
    },
    {
      "cell_type": "code",
      "execution_count": null,
      "metadata": {
        "id": "y3j7qEVpaS9i"
      },
      "outputs": [],
      "source": [
        "ticker_symbol_msft = 'MSFT'\n",
        "\n",
        "X2, y2 = getStockData(ticker_symbol=ticker_symbol_msft,\n",
        "                      ts=ts)"
      ]
    },
    {
      "cell_type": "code",
      "execution_count": null,
      "metadata": {
        "id": "eu435miDavBW"
      },
      "outputs": [],
      "source": [
        "pd.read_csv('')"
      ]
    }
  ],
  "metadata": {
    "accelerator": "GPU",
    "colab": {
      "gpuType": "T4",
      "provenance": []
    },
    "kernelspec": {
      "display_name": "Python 3",
      "name": "python3"
    },
    "language_info": {
      "name": "python"
    }
  },
  "nbformat": 4,
  "nbformat_minor": 0
}
